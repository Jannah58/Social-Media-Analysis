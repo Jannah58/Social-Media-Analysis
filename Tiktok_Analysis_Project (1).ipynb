{
  "cells": [
    {
      "cell_type": "markdown",
      "source": [
        "# **TikTok Analysis**"
      ],
      "metadata": {
        "id": "GnNTdtu9sA37"
      },
      "id": "GnNTdtu9sA37"
    },
    {
      "cell_type": "markdown",
      "source": [
        "# Import Libraries"
      ],
      "metadata": {
        "id": "OTo38mGVr9Dr"
      },
      "id": "OTo38mGVr9Dr"
    },
    {
      "cell_type": "code",
      "execution_count": null,
      "id": "2b6d701b",
      "metadata": {
        "id": "2b6d701b"
      },
      "outputs": [],
      "source": [
        "import pandas as pd\n",
        "import numpy as np\n",
        "import matplotlib.pyplot as plt\n",
        "import seaborn as sns"
      ]
    },
    {
      "cell_type": "markdown",
      "id": "d83bd94a",
      "metadata": {
        "id": "d83bd94a"
      },
      "source": [
        "# Reading and exploring the data"
      ]
    },
    {
      "cell_type": "code",
      "execution_count": null,
      "id": "ea373b1d",
      "metadata": {
        "id": "ea373b1d"
      },
      "outputs": [],
      "source": [
        "df = pd.read_csv('social media influencers - tiktok.csv')"
      ]
    },
    {
      "cell_type": "code",
      "execution_count": null,
      "id": "50eb36e0",
      "metadata": {
        "id": "50eb36e0",
        "outputId": "3f37f1f5-592f-40fd-f884-51af92df086c"
      },
      "outputs": [
        {
          "data": {
            "text/html": [
              "<div>\n",
              "<style scoped>\n",
              "    .dataframe tbody tr th:only-of-type {\n",
              "        vertical-align: middle;\n",
              "    }\n",
              "\n",
              "    .dataframe tbody tr th {\n",
              "        vertical-align: top;\n",
              "    }\n",
              "\n",
              "    .dataframe thead th {\n",
              "        text-align: right;\n",
              "    }\n",
              "</style>\n",
              "<table border=\"1\" class=\"dataframe\">\n",
              "  <thead>\n",
              "    <tr style=\"text-align: right;\">\n",
              "      <th></th>\n",
              "      <th>Tiktoker name</th>\n",
              "      <th>Tiktok name</th>\n",
              "      <th>Subscribers count</th>\n",
              "      <th>Views avg.</th>\n",
              "      <th>Likes avg</th>\n",
              "      <th>Comments avg.</th>\n",
              "      <th>Shares avg</th>\n",
              "    </tr>\n",
              "  </thead>\n",
              "  <tbody>\n",
              "    <tr>\n",
              "      <th>0</th>\n",
              "      <td>ekin.721</td>\n",
              "      <td>MOMO’s</td>\n",
              "      <td>221.7K</td>\n",
              "      <td>26M</td>\n",
              "      <td>2.8M</td>\n",
              "      <td>29.4K</td>\n",
              "      <td>116.4K</td>\n",
              "    </tr>\n",
              "    <tr>\n",
              "      <th>1</th>\n",
              "      <td>dojacat</td>\n",
              "      <td>Doja Cat</td>\n",
              "      <td>22.2M</td>\n",
              "      <td>25.4M</td>\n",
              "      <td>5M</td>\n",
              "      <td>36.7K</td>\n",
              "      <td>46.8K</td>\n",
              "    </tr>\n",
              "    <tr>\n",
              "      <th>2</th>\n",
              "      <td>kiet.ac.quy</td>\n",
              "      <td>Kiệt Ắk Wỷ</td>\n",
              "      <td>2.1M</td>\n",
              "      <td>20.7M</td>\n",
              "      <td>3.5M</td>\n",
              "      <td>38.8K</td>\n",
              "      <td>33.9K</td>\n",
              "    </tr>\n",
              "    <tr>\n",
              "      <th>3</th>\n",
              "      <td>charlidamelio</td>\n",
              "      <td>charli d’amelio</td>\n",
              "      <td>135.4M</td>\n",
              "      <td>18.7M</td>\n",
              "      <td>2.6M</td>\n",
              "      <td>54.7K</td>\n",
              "      <td>35.2K</td>\n",
              "    </tr>\n",
              "    <tr>\n",
              "      <th>4</th>\n",
              "      <td>luvadepedreiro</td>\n",
              "      <td>Iran Ferreira (Lai)</td>\n",
              "      <td>11.4M</td>\n",
              "      <td>24.8M</td>\n",
              "      <td>2.6M</td>\n",
              "      <td>32.7K</td>\n",
              "      <td>26.8K</td>\n",
              "    </tr>\n",
              "  </tbody>\n",
              "</table>\n",
              "</div>"
            ],
            "text/plain": [
              "    Tiktoker name          Tiktok name Subscribers count Views avg. Likes avg  \\\n",
              "0        ekin.721               MOMO’s            221.7K        26M      2.8M   \n",
              "1         dojacat             Doja Cat             22.2M      25.4M        5M   \n",
              "2     kiet.ac.quy           Kiệt Ắk Wỷ              2.1M      20.7M      3.5M   \n",
              "3   charlidamelio      charli d’amelio            135.4M      18.7M      2.6M   \n",
              "4  luvadepedreiro  Iran Ferreira (Lai)             11.4M      24.8M      2.6M   \n",
              "\n",
              "  Comments avg. Shares avg  \n",
              "0         29.4K     116.4K  \n",
              "1         36.7K      46.8K  \n",
              "2         38.8K      33.9K  \n",
              "3         54.7K      35.2K  \n",
              "4         32.7K      26.8K  "
            ]
          },
          "execution_count": 21,
          "metadata": {},
          "output_type": "execute_result"
        }
      ],
      "source": [
        "df.head()"
      ]
    },
    {
      "cell_type": "code",
      "execution_count": null,
      "id": "e77ec140",
      "metadata": {
        "id": "e77ec140",
        "outputId": "ba828938-a88e-4fb9-f3f4-0a704be5af8b"
      },
      "outputs": [
        {
          "name": "stdout",
          "output_type": "stream",
          "text": [
            "<class 'pandas.core.frame.DataFrame'>\n",
            "RangeIndex: 1000 entries, 0 to 999\n",
            "Data columns (total 7 columns):\n",
            " #   Column             Non-Null Count  Dtype \n",
            "---  ------             --------------  ----- \n",
            " 0   Tiktoker name      1000 non-null   object\n",
            " 1   Tiktok name        998 non-null    object\n",
            " 2   Subscribers count  1000 non-null   object\n",
            " 3   Views avg.         1000 non-null   object\n",
            " 4   Likes avg          1000 non-null   object\n",
            " 5   Comments avg.      1000 non-null   object\n",
            " 6   Shares avg         1000 non-null   object\n",
            "dtypes: object(7)\n",
            "memory usage: 54.8+ KB\n"
          ]
        }
      ],
      "source": [
        "df.info()"
      ]
    },
    {
      "cell_type": "markdown",
      "id": "4b1a2f62",
      "metadata": {
        "id": "4b1a2f62"
      },
      "source": [
        "# Fixing Nulls\n"
      ]
    },
    {
      "cell_type": "code",
      "execution_count": null,
      "id": "70fcd862",
      "metadata": {
        "id": "70fcd862"
      },
      "outputs": [],
      "source": [
        "null_sum = df.isna().sum().sum()"
      ]
    },
    {
      "cell_type": "code",
      "execution_count": null,
      "id": "15797ef0",
      "metadata": {
        "id": "15797ef0",
        "outputId": "9fb01347-f987-4b1b-889b-c805d5a525a3"
      },
      "outputs": [
        {
          "data": {
            "text/plain": [
              "7000"
            ]
          },
          "execution_count": 24,
          "metadata": {},
          "output_type": "execute_result"
        }
      ],
      "source": [
        "df.size"
      ]
    },
    {
      "cell_type": "code",
      "execution_count": null,
      "id": "22462840",
      "metadata": {
        "id": "22462840",
        "outputId": "c677125a-eea4-4854-fca4-055c2e4dc7b5"
      },
      "outputs": [
        {
          "name": "stdout",
          "output_type": "stream",
          "text": [
            "0.028571428571428574\n"
          ]
        }
      ],
      "source": [
        "print((null_sum/df.size)*100)"
      ]
    },
    {
      "cell_type": "code",
      "execution_count": null,
      "id": "b8026ecd",
      "metadata": {
        "id": "b8026ecd"
      },
      "outputs": [],
      "source": [
        "df = df.dropna()"
      ]
    },
    {
      "cell_type": "markdown",
      "id": "3afe3d9c",
      "metadata": {
        "id": "3afe3d9c"
      },
      "source": [
        "# Handling the datatypes"
      ]
    },
    {
      "cell_type": "code",
      "execution_count": null,
      "id": "238690a7",
      "metadata": {
        "id": "238690a7"
      },
      "outputs": [],
      "source": [
        "def convert(string):\n",
        "    string = str(string)  # convert input to string\n",
        "    if 'M' in string:\n",
        "        integer = float(string.replace('M', '')) * 1000000\n",
        "    elif 'K' in string:\n",
        "        integer = float(string.replace('K', '')) * 1000\n",
        "    else:\n",
        "        integer = float(string)\n",
        "    return integer"
      ]
    },
    {
      "cell_type": "code",
      "execution_count": null,
      "id": "eda1f204",
      "metadata": {
        "id": "eda1f204"
      },
      "outputs": [],
      "source": [
        "df['Subscribers count'] = df['Subscribers count'].apply(convert)"
      ]
    },
    {
      "cell_type": "code",
      "execution_count": null,
      "id": "a94e5ce1",
      "metadata": {
        "id": "a94e5ce1",
        "outputId": "9a3159bc-758f-4bde-8bbe-7a921bf21603"
      },
      "outputs": [
        {
          "data": {
            "text/html": [
              "<div>\n",
              "<style scoped>\n",
              "    .dataframe tbody tr th:only-of-type {\n",
              "        vertical-align: middle;\n",
              "    }\n",
              "\n",
              "    .dataframe tbody tr th {\n",
              "        vertical-align: top;\n",
              "    }\n",
              "\n",
              "    .dataframe thead th {\n",
              "        text-align: right;\n",
              "    }\n",
              "</style>\n",
              "<table border=\"1\" class=\"dataframe\">\n",
              "  <thead>\n",
              "    <tr style=\"text-align: right;\">\n",
              "      <th></th>\n",
              "      <th>Tiktoker name</th>\n",
              "      <th>Tiktok name</th>\n",
              "      <th>Subscribers count</th>\n",
              "      <th>Views avg.</th>\n",
              "      <th>Likes avg</th>\n",
              "      <th>Comments avg.</th>\n",
              "      <th>Shares avg</th>\n",
              "    </tr>\n",
              "  </thead>\n",
              "  <tbody>\n",
              "    <tr>\n",
              "      <th>0</th>\n",
              "      <td>ekin.721</td>\n",
              "      <td>MOMO’s</td>\n",
              "      <td>221700.0</td>\n",
              "      <td>26M</td>\n",
              "      <td>2.8M</td>\n",
              "      <td>29.4K</td>\n",
              "      <td>116.4K</td>\n",
              "    </tr>\n",
              "    <tr>\n",
              "      <th>1</th>\n",
              "      <td>dojacat</td>\n",
              "      <td>Doja Cat</td>\n",
              "      <td>22200000.0</td>\n",
              "      <td>25.4M</td>\n",
              "      <td>5M</td>\n",
              "      <td>36.7K</td>\n",
              "      <td>46.8K</td>\n",
              "    </tr>\n",
              "    <tr>\n",
              "      <th>2</th>\n",
              "      <td>kiet.ac.quy</td>\n",
              "      <td>Kiệt Ắk Wỷ</td>\n",
              "      <td>2100000.0</td>\n",
              "      <td>20.7M</td>\n",
              "      <td>3.5M</td>\n",
              "      <td>38.8K</td>\n",
              "      <td>33.9K</td>\n",
              "    </tr>\n",
              "    <tr>\n",
              "      <th>3</th>\n",
              "      <td>charlidamelio</td>\n",
              "      <td>charli d’amelio</td>\n",
              "      <td>135400000.0</td>\n",
              "      <td>18.7M</td>\n",
              "      <td>2.6M</td>\n",
              "      <td>54.7K</td>\n",
              "      <td>35.2K</td>\n",
              "    </tr>\n",
              "    <tr>\n",
              "      <th>4</th>\n",
              "      <td>luvadepedreiro</td>\n",
              "      <td>Iran Ferreira (Lai)</td>\n",
              "      <td>11400000.0</td>\n",
              "      <td>24.8M</td>\n",
              "      <td>2.6M</td>\n",
              "      <td>32.7K</td>\n",
              "      <td>26.8K</td>\n",
              "    </tr>\n",
              "  </tbody>\n",
              "</table>\n",
              "</div>"
            ],
            "text/plain": [
              "    Tiktoker name          Tiktok name  Subscribers count Views avg.  \\\n",
              "0        ekin.721               MOMO’s           221700.0        26M   \n",
              "1         dojacat             Doja Cat         22200000.0      25.4M   \n",
              "2     kiet.ac.quy           Kiệt Ắk Wỷ          2100000.0      20.7M   \n",
              "3   charlidamelio      charli d’amelio        135400000.0      18.7M   \n",
              "4  luvadepedreiro  Iran Ferreira (Lai)         11400000.0      24.8M   \n",
              "\n",
              "  Likes avg Comments avg. Shares avg  \n",
              "0      2.8M         29.4K     116.4K  \n",
              "1        5M         36.7K      46.8K  \n",
              "2      3.5M         38.8K      33.9K  \n",
              "3      2.6M         54.7K      35.2K  \n",
              "4      2.6M         32.7K      26.8K  "
            ]
          },
          "execution_count": 30,
          "metadata": {},
          "output_type": "execute_result"
        }
      ],
      "source": [
        "df.head()"
      ]
    },
    {
      "cell_type": "code",
      "execution_count": null,
      "id": "fcf8498f",
      "metadata": {
        "id": "fcf8498f"
      },
      "outputs": [],
      "source": [
        "df['Likes avg'] = df['Likes avg'].apply(convert)\n",
        "df['Views avg.'] = df['Views avg.'].apply(convert)\n",
        "df['Comments avg.'] = df['Comments avg.'].apply(convert)\n",
        "df['Shares avg'] = df['Shares avg'].apply(convert)"
      ]
    },
    {
      "cell_type": "markdown",
      "id": "a931bb18",
      "metadata": {
        "id": "a931bb18"
      },
      "source": [
        "# Visualizing"
      ]
    },
    {
      "cell_type": "markdown",
      "source": [
        "# Top 3 Tiktokers with the most Subscribers"
      ],
      "metadata": {
        "id": "Ok59x2_1sUui"
      },
      "id": "Ok59x2_1sUui"
    },
    {
      "cell_type": "code",
      "execution_count": null,
      "id": "b97f412d",
      "metadata": {
        "id": "b97f412d",
        "outputId": "02f7b5b3-a321-42e2-ee48-eb770877467d"
      },
      "outputs": [
        {
          "data": {
            "image/png": "[encoded data removed]",
            "text/plain": [
              "<Figure size 640x480 with 1 Axes>"
            ]
          },
          "metadata": {},
          "output_type": "display_data"
        }
      ],
      "source": [
        "# select the top 3 Tiktokers with the most Subscribers\n",
        "top_tiktokers_subscribers = df.nlargest(3, 'Subscribers count')\n",
        "\n",
        "# create a bar plot of the selected rows\n",
        "top_tiktokers_subscribers.plot(kind='bar', x='Tiktoker name', y='Subscribers count')\n",
        "# plt.ticklabel_format(style='plain', axis='y')\n",
        "plt.xticks(rotation=0)\n",
        "plt.xlabel('Tiktokers')\n",
        "plt.ylabel('Average Subscribers')\n",
        "plt.title('Top 3 Tiktokers with the most Subscribers')\n",
        "plt.show()"
      ]
    },
    {
      "cell_type": "code",
      "execution_count": null,
      "id": "a3ae86ff",
      "metadata": {
        "id": "a3ae86ff",
        "outputId": "7e81cb47-5824-4744-cf25-a89d93097518"
      },
      "outputs": [
        {
          "data": {
            "text/html": [
              "<div>\n",
              "<style scoped>\n",
              "    .dataframe tbody tr th:only-of-type {\n",
              "        vertical-align: middle;\n",
              "    }\n",
              "\n",
              "    .dataframe tbody tr th {\n",
              "        vertical-align: top;\n",
              "    }\n",
              "\n",
              "    .dataframe thead th {\n",
              "        text-align: right;\n",
              "    }\n",
              "</style>\n",
              "<table border=\"1\" class=\"dataframe\">\n",
              "  <thead>\n",
              "    <tr style=\"text-align: right;\">\n",
              "      <th></th>\n",
              "      <th>Tiktoker name</th>\n",
              "      <th>Tiktok name</th>\n",
              "      <th>Subscribers count</th>\n",
              "      <th>Views avg.</th>\n",
              "      <th>Likes avg</th>\n",
              "      <th>Comments avg.</th>\n",
              "      <th>Shares avg</th>\n",
              "    </tr>\n",
              "  </thead>\n",
              "  <tbody>\n",
              "    <tr>\n",
              "      <th>3</th>\n",
              "      <td>charlidamelio</td>\n",
              "      <td>charli d’amelio</td>\n",
              "      <td>135400000.0</td>\n",
              "      <td>18700000.0</td>\n",
              "      <td>2600000.0</td>\n",
              "      <td>54700.0</td>\n",
              "      <td>35200.0</td>\n",
              "    </tr>\n",
              "    <tr>\n",
              "      <th>6</th>\n",
              "      <td>khaby.lame</td>\n",
              "      <td>Khabane lame</td>\n",
              "      <td>135200000.0</td>\n",
              "      <td>17700000.0</td>\n",
              "      <td>2300000.0</td>\n",
              "      <td>18000.0</td>\n",
              "      <td>11200.0</td>\n",
              "    </tr>\n",
              "    <tr>\n",
              "      <th>31</th>\n",
              "      <td>bellapoarch</td>\n",
              "      <td>Bella Poarch</td>\n",
              "      <td>88500000.0</td>\n",
              "      <td>11100000.0</td>\n",
              "      <td>1000000.0</td>\n",
              "      <td>14300.0</td>\n",
              "      <td>1600.0</td>\n",
              "    </tr>\n",
              "  </tbody>\n",
              "</table>\n",
              "</div>"
            ],
            "text/plain": [
              "    Tiktoker name      Tiktok name  Subscribers count  Views avg.  Likes avg  \\\n",
              "3   charlidamelio  charli d’amelio        135400000.0  18700000.0  2600000.0   \n",
              "6      khaby.lame     Khabane lame        135200000.0  17700000.0  2300000.0   \n",
              "31    bellapoarch     Bella Poarch         88500000.0  11100000.0  1000000.0   \n",
              "\n",
              "    Comments avg.  Shares avg  \n",
              "3         54700.0     35200.0  \n",
              "6         18000.0     11200.0  \n",
              "31        14300.0      1600.0  "
            ]
          },
          "execution_count": 46,
          "metadata": {},
          "output_type": "execute_result"
        }
      ],
      "source": [
        "top_tiktokers_subscribers.head()"
      ]
    },
    {
      "cell_type": "markdown",
      "source": [
        "# Top 3 Tiktokers with the most Views"
      ],
      "metadata": {
        "id": "kxP5QPS7saaq"
      },
      "id": "kxP5QPS7saaq"
    },
    {
      "cell_type": "code",
      "execution_count": null,
      "id": "e8ac3ae4",
      "metadata": {
        "id": "e8ac3ae4",
        "outputId": "0c9d23f1-b985-4284-fa9f-f0c4586c2f27"
      },
      "outputs": [
        {
          "data": {
            "image/png": "[encoded data removed]",
            "text/plain": [
              "<Figure size 640x480 with 1 Axes>"
            ]
          },
          "metadata": {},
          "output_type": "display_data"
        }
      ],
      "source": [
        "# select the top 3 Tiktokers with the most Views\n",
        "top_tiktokers_views = df.nlargest(3, 'Views avg.')\n",
        "\n",
        "# create a bar plot of the selected rows\n",
        "top_tiktokers_views.plot(kind='bar', x='Tiktoker name', y='Views avg.')\n",
        "plt.xticks(rotation=0)\n",
        "plt.xlabel('Tiktokers')\n",
        "plt.ylabel('Views avg.')\n",
        "plt.title('Top 3 Tiktokers with the most views avg.')\n",
        "plt.show()"
      ]
    },
    {
      "cell_type": "code",
      "execution_count": null,
      "id": "617f2ca4",
      "metadata": {
        "id": "617f2ca4",
        "outputId": "08d8fa46-f3bd-4a38-af04-c1b52b975ec4"
      },
      "outputs": [
        {
          "data": {
            "text/html": [
              "<div>\n",
              "<style scoped>\n",
              "    .dataframe tbody tr th:only-of-type {\n",
              "        vertical-align: middle;\n",
              "    }\n",
              "\n",
              "    .dataframe tbody tr th {\n",
              "        vertical-align: top;\n",
              "    }\n",
              "\n",
              "    .dataframe thead th {\n",
              "        text-align: right;\n",
              "    }\n",
              "</style>\n",
              "<table border=\"1\" class=\"dataframe\">\n",
              "  <thead>\n",
              "    <tr style=\"text-align: right;\">\n",
              "      <th></th>\n",
              "      <th>Tiktoker name</th>\n",
              "      <th>Tiktok name</th>\n",
              "      <th>Subscribers count</th>\n",
              "      <th>Views avg.</th>\n",
              "      <th>Likes avg</th>\n",
              "      <th>Comments avg.</th>\n",
              "      <th>Shares avg</th>\n",
              "    </tr>\n",
              "  </thead>\n",
              "  <tbody>\n",
              "    <tr>\n",
              "      <th>115</th>\n",
              "      <td>tiktokmena</td>\n",
              "      <td>TikTok MENA</td>\n",
              "      <td>5700000.0</td>\n",
              "      <td>39500000.0</td>\n",
              "      <td>179200.0</td>\n",
              "      <td>1200.0</td>\n",
              "      <td>2200.0</td>\n",
              "    </tr>\n",
              "    <tr>\n",
              "      <th>0</th>\n",
              "      <td>ekin.721</td>\n",
              "      <td>MOMO’s</td>\n",
              "      <td>221700.0</td>\n",
              "      <td>26000000.0</td>\n",
              "      <td>2800000.0</td>\n",
              "      <td>29400.0</td>\n",
              "      <td>116400.0</td>\n",
              "    </tr>\n",
              "    <tr>\n",
              "      <th>1</th>\n",
              "      <td>dojacat</td>\n",
              "      <td>Doja Cat</td>\n",
              "      <td>22200000.0</td>\n",
              "      <td>25400000.0</td>\n",
              "      <td>5000000.0</td>\n",
              "      <td>36700.0</td>\n",
              "      <td>46800.0</td>\n",
              "    </tr>\n",
              "  </tbody>\n",
              "</table>\n",
              "</div>"
            ],
            "text/plain": [
              "    Tiktoker name  Tiktok name  Subscribers count  Views avg.  Likes avg  \\\n",
              "115    tiktokmena  TikTok MENA          5700000.0  39500000.0   179200.0   \n",
              "0        ekin.721       MOMO’s           221700.0  26000000.0  2800000.0   \n",
              "1         dojacat     Doja Cat         22200000.0  25400000.0  5000000.0   \n",
              "\n",
              "     Comments avg.  Shares avg  \n",
              "115         1200.0      2200.0  \n",
              "0          29400.0    116400.0  \n",
              "1          36700.0     46800.0  "
            ]
          },
          "execution_count": 49,
          "metadata": {},
          "output_type": "execute_result"
        }
      ],
      "source": [
        "top_tiktokers_views.head()"
      ]
    },
    {
      "cell_type": "markdown",
      "source": [
        "# Top 3 Tiktokers with the most Likes"
      ],
      "metadata": {
        "id": "cAwCf-Qdsf0Z"
      },
      "id": "cAwCf-Qdsf0Z"
    },
    {
      "cell_type": "code",
      "execution_count": null,
      "id": "e1f718ff",
      "metadata": {
        "id": "e1f718ff",
        "outputId": "9eb41b45-0763-4933-9bac-020f1ebee818"
      },
      "outputs": [
        {
          "data": {
            "image/png": "[encoded data removed]",
            "text/plain": [
              "<Figure size 640x480 with 1 Axes>"
            ]
          },
          "metadata": {},
          "output_type": "display_data"
        }
      ],
      "source": [
        "# select the top 3 Tiktokers with the most Likes\n",
        "top_tiktokers_Likes_avg = df.nlargest(3, 'Likes avg')\n",
        "\n",
        "# create a bar plot of the selected rows\n",
        "top_tiktokers_Likes_avg.plot(kind='bar', x='Tiktoker name', y='Likes avg')\n",
        "plt.xticks(rotation=0)\n",
        "plt.xlabel('Tiktokers')\n",
        "plt.ylabel('Likes avg')\n",
        "plt.title('Top 3 Tiktokers with the most Likes avg')\n",
        "plt.show()"
      ]
    },
    {
      "cell_type": "code",
      "execution_count": null,
      "id": "3557cbb6",
      "metadata": {
        "id": "3557cbb6",
        "outputId": "aa659ec3-44d4-43f8-e0ff-21e8894e44dd"
      },
      "outputs": [
        {
          "data": {
            "text/html": [
              "<div>\n",
              "<style scoped>\n",
              "    .dataframe tbody tr th:only-of-type {\n",
              "        vertical-align: middle;\n",
              "    }\n",
              "\n",
              "    .dataframe tbody tr th {\n",
              "        vertical-align: top;\n",
              "    }\n",
              "\n",
              "    .dataframe thead th {\n",
              "        text-align: right;\n",
              "    }\n",
              "</style>\n",
              "<table border=\"1\" class=\"dataframe\">\n",
              "  <thead>\n",
              "    <tr style=\"text-align: right;\">\n",
              "      <th></th>\n",
              "      <th>Tiktoker name</th>\n",
              "      <th>Tiktok name</th>\n",
              "      <th>Subscribers count</th>\n",
              "      <th>Views avg.</th>\n",
              "      <th>Likes avg</th>\n",
              "      <th>Comments avg.</th>\n",
              "      <th>Shares avg</th>\n",
              "    </tr>\n",
              "  </thead>\n",
              "  <tbody>\n",
              "    <tr>\n",
              "      <th>1</th>\n",
              "      <td>dojacat</td>\n",
              "      <td>Doja Cat</td>\n",
              "      <td>22200000.0</td>\n",
              "      <td>25400000.0</td>\n",
              "      <td>5000000.0</td>\n",
              "      <td>36700.0</td>\n",
              "      <td>46800.0</td>\n",
              "    </tr>\n",
              "    <tr>\n",
              "      <th>5</th>\n",
              "      <td>badbunny</td>\n",
              "      <td>Bad Bunny</td>\n",
              "      <td>16100000.0</td>\n",
              "      <td>17600000.0</td>\n",
              "      <td>4000000.0</td>\n",
              "      <td>28000.0</td>\n",
              "      <td>26200.0</td>\n",
              "    </tr>\n",
              "    <tr>\n",
              "      <th>2</th>\n",
              "      <td>kiet.ac.quy</td>\n",
              "      <td>Kiệt Ắk Wỷ</td>\n",
              "      <td>2100000.0</td>\n",
              "      <td>20700000.0</td>\n",
              "      <td>3500000.0</td>\n",
              "      <td>38800.0</td>\n",
              "      <td>33900.0</td>\n",
              "    </tr>\n",
              "  </tbody>\n",
              "</table>\n",
              "</div>"
            ],
            "text/plain": [
              "  Tiktoker name Tiktok name  Subscribers count  Views avg.  Likes avg  \\\n",
              "1       dojacat    Doja Cat         22200000.0  25400000.0  5000000.0   \n",
              "5      badbunny   Bad Bunny         16100000.0  17600000.0  4000000.0   \n",
              "2   kiet.ac.quy  Kiệt Ắk Wỷ          2100000.0  20700000.0  3500000.0   \n",
              "\n",
              "   Comments avg.  Shares avg  \n",
              "1        36700.0     46800.0  \n",
              "5        28000.0     26200.0  \n",
              "2        38800.0     33900.0  "
            ]
          },
          "execution_count": 52,
          "metadata": {},
          "output_type": "execute_result"
        }
      ],
      "source": [
        "top_tiktokers_Likes_avg.head()"
      ]
    },
    {
      "cell_type": "markdown",
      "source": [
        "# top 3 Tiktokers with the most Comments avg."
      ],
      "metadata": {
        "id": "y2ceeAiKssg7"
      },
      "id": "y2ceeAiKssg7"
    },
    {
      "cell_type": "code",
      "execution_count": null,
      "id": "d0508104",
      "metadata": {
        "id": "d0508104",
        "outputId": "08151e2c-acf1-4142-b631-9eaa5ef1ed19"
      },
      "outputs": [
        {
          "data": {
            "image/png": "[encoded data removed]",
            "text/plain": [
              "<Figure size 640x480 with 1 Axes>"
            ]
          },
          "metadata": {},
          "output_type": "display_data"
        }
      ],
      "source": [
        "# select the top 3 Tiktokers with the most Comments avg.\n",
        "top_tiktokers_Comments_avg = df.nlargest(3, 'Comments avg.')\n",
        "\n",
        "# create a bar plot of the selected rows\n",
        "top_tiktokers_Comments_avg.plot(kind='bar', x='Tiktoker name', y='Comments avg.')\n",
        "plt.xticks(rotation=0)\n",
        "plt.xlabel('Tiktokers')\n",
        "plt.ylabel('Comments avg.')\n",
        "plt.title('Top 3 Tiktokers with the most Comments avg.')\n",
        "plt.show()"
      ]
    },
    {
      "cell_type": "code",
      "execution_count": null,
      "id": "329ee1cd",
      "metadata": {
        "id": "329ee1cd",
        "outputId": "fb36fb6f-3e0f-4d08-c5c1-f910903190a2"
      },
      "outputs": [
        {
          "data": {
            "text/html": [
              "<div>\n",
              "<style scoped>\n",
              "    .dataframe tbody tr th:only-of-type {\n",
              "        vertical-align: middle;\n",
              "    }\n",
              "\n",
              "    .dataframe tbody tr th {\n",
              "        vertical-align: top;\n",
              "    }\n",
              "\n",
              "    .dataframe thead th {\n",
              "        text-align: right;\n",
              "    }\n",
              "</style>\n",
              "<table border=\"1\" class=\"dataframe\">\n",
              "  <thead>\n",
              "    <tr style=\"text-align: right;\">\n",
              "      <th></th>\n",
              "      <th>Tiktoker name</th>\n",
              "      <th>Tiktok name</th>\n",
              "      <th>Subscribers count</th>\n",
              "      <th>Views avg.</th>\n",
              "      <th>Likes avg</th>\n",
              "      <th>Comments avg.</th>\n",
              "      <th>Shares avg</th>\n",
              "    </tr>\n",
              "  </thead>\n",
              "  <tbody>\n",
              "    <tr>\n",
              "      <th>3</th>\n",
              "      <td>charlidamelio</td>\n",
              "      <td>charli d’amelio</td>\n",
              "      <td>135400000.0</td>\n",
              "      <td>18700000.0</td>\n",
              "      <td>2600000.0</td>\n",
              "      <td>54700.0</td>\n",
              "      <td>35200.0</td>\n",
              "    </tr>\n",
              "    <tr>\n",
              "      <th>2</th>\n",
              "      <td>kiet.ac.quy</td>\n",
              "      <td>Kiệt Ắk Wỷ</td>\n",
              "      <td>2100000.0</td>\n",
              "      <td>20700000.0</td>\n",
              "      <td>3500000.0</td>\n",
              "      <td>38800.0</td>\n",
              "      <td>33900.0</td>\n",
              "    </tr>\n",
              "    <tr>\n",
              "      <th>1</th>\n",
              "      <td>dojacat</td>\n",
              "      <td>Doja Cat</td>\n",
              "      <td>22200000.0</td>\n",
              "      <td>25400000.0</td>\n",
              "      <td>5000000.0</td>\n",
              "      <td>36700.0</td>\n",
              "      <td>46800.0</td>\n",
              "    </tr>\n",
              "  </tbody>\n",
              "</table>\n",
              "</div>"
            ],
            "text/plain": [
              "   Tiktoker name      Tiktok name  Subscribers count  Views avg.  Likes avg  \\\n",
              "3  charlidamelio  charli d’amelio        135400000.0  18700000.0  2600000.0   \n",
              "2    kiet.ac.quy       Kiệt Ắk Wỷ          2100000.0  20700000.0  3500000.0   \n",
              "1        dojacat         Doja Cat         22200000.0  25400000.0  5000000.0   \n",
              "\n",
              "   Comments avg.  Shares avg  \n",
              "3        54700.0     35200.0  \n",
              "2        38800.0     33900.0  \n",
              "1        36700.0     46800.0  "
            ]
          },
          "execution_count": 58,
          "metadata": {},
          "output_type": "execute_result"
        }
      ],
      "source": [
        "top_tiktokers_Comments_avg.head()"
      ]
    },
    {
      "cell_type": "markdown",
      "source": [
        "# top 3 Tiktokers with the most Shares avg"
      ],
      "metadata": {
        "id": "xoTMlLgYs07d"
      },
      "id": "xoTMlLgYs07d"
    },
    {
      "cell_type": "code",
      "execution_count": null,
      "id": "5c2076ae",
      "metadata": {
        "id": "5c2076ae",
        "outputId": "b72ad4b3-9deb-4a31-c412-321f90330e73"
      },
      "outputs": [
        {
          "data": {
            "image/png": "[encoded data removed]",
            "text/plain": [
              "<Figure size 640x480 with 1 Axes>"
            ]
          },
          "metadata": {},
          "output_type": "display_data"
        }
      ],
      "source": [
        "# select the top 3 Tiktokers with the most Shares avg.\n",
        "top_tiktokers_Shares_avg = df.nlargest(3, 'Shares avg')\n",
        "\n",
        "# create a bar plot of the selected rows\n",
        "top_tiktokers_Shares_avg.plot(kind='bar', x='Tiktoker name', y='Shares avg')\n",
        "plt.xticks(rotation=0)\n",
        "plt.xlabel('Tiktokers')\n",
        "plt.ylabel('Shares avg')\n",
        "plt.title('Top 3 Tiktokers with the most Shares avg')\n",
        "plt.show()"
      ]
    },
    {
      "cell_type": "code",
      "execution_count": null,
      "id": "d7e8c23d",
      "metadata": {
        "id": "d7e8c23d",
        "outputId": "dcb562f6-5e72-45df-f233-5e081c587e59"
      },
      "outputs": [
        {
          "data": {
            "text/html": [
              "<div>\n",
              "<style scoped>\n",
              "    .dataframe tbody tr th:only-of-type {\n",
              "        vertical-align: middle;\n",
              "    }\n",
              "\n",
              "    .dataframe tbody tr th {\n",
              "        vertical-align: top;\n",
              "    }\n",
              "\n",
              "    .dataframe thead th {\n",
              "        text-align: right;\n",
              "    }\n",
              "</style>\n",
              "<table border=\"1\" class=\"dataframe\">\n",
              "  <thead>\n",
              "    <tr style=\"text-align: right;\">\n",
              "      <th></th>\n",
              "      <th>Tiktoker name</th>\n",
              "      <th>Tiktok name</th>\n",
              "      <th>Subscribers count</th>\n",
              "      <th>Views avg.</th>\n",
              "      <th>Likes avg</th>\n",
              "      <th>Comments avg.</th>\n",
              "      <th>Shares avg</th>\n",
              "    </tr>\n",
              "  </thead>\n",
              "  <tbody>\n",
              "    <tr>\n",
              "      <th>449</th>\n",
              "      <td>tatiana1964_2</td>\n",
              "      <td>Татьяна</td>\n",
              "      <td>31000.0</td>\n",
              "      <td>1700000.0</td>\n",
              "      <td>12400.0</td>\n",
              "      <td>207.0</td>\n",
              "      <td>151800.0</td>\n",
              "    </tr>\n",
              "    <tr>\n",
              "      <th>0</th>\n",
              "      <td>ekin.721</td>\n",
              "      <td>MOMO’s</td>\n",
              "      <td>221700.0</td>\n",
              "      <td>26000000.0</td>\n",
              "      <td>2800000.0</td>\n",
              "      <td>29400.0</td>\n",
              "      <td>116400.0</td>\n",
              "    </tr>\n",
              "    <tr>\n",
              "      <th>1</th>\n",
              "      <td>dojacat</td>\n",
              "      <td>Doja Cat</td>\n",
              "      <td>22200000.0</td>\n",
              "      <td>25400000.0</td>\n",
              "      <td>5000000.0</td>\n",
              "      <td>36700.0</td>\n",
              "      <td>46800.0</td>\n",
              "    </tr>\n",
              "  </tbody>\n",
              "</table>\n",
              "</div>"
            ],
            "text/plain": [
              "     Tiktoker name Tiktok name  Subscribers count  Views avg.  Likes avg  \\\n",
              "449  tatiana1964_2     Татьяна            31000.0   1700000.0    12400.0   \n",
              "0         ekin.721      MOMO’s           221700.0  26000000.0  2800000.0   \n",
              "1          dojacat    Doja Cat         22200000.0  25400000.0  5000000.0   \n",
              "\n",
              "     Comments avg.  Shares avg  \n",
              "449          207.0    151800.0  \n",
              "0          29400.0    116400.0  \n",
              "1          36700.0     46800.0  "
            ]
          },
          "execution_count": 60,
          "metadata": {},
          "output_type": "execute_result"
        }
      ],
      "source": [
        "top_tiktokers_Shares_avg.head()"
      ]
    },
    {
      "cell_type": "markdown",
      "id": "9c778c69",
      "metadata": {
        "id": "9c778c69"
      },
      "source": [
        "# Conclusion"
      ]
    },
    {
      "cell_type": "markdown",
      "id": "ddc5325f",
      "metadata": {
        "id": "ddc5325f"
      },
      "source": [
        "The most 3 influenced influencers on tiktok are Charlidalemio, KhabyLame, bellapoarch"
      ]
    },
    {
      "cell_type": "code",
      "execution_count": null,
      "id": "de6fea9c",
      "metadata": {
        "id": "de6fea9c",
        "outputId": "3ddf1696-fcb8-4e53-fb8b-325b62d4b8d6"
      },
      "outputs": [
        {
          "data": {
            "image/png": "[encoded data removed]",
            "text/plain": [
              "<Figure size 800x600 with 1 Axes>"
            ]
          },
          "metadata": {},
          "output_type": "display_data"
        }
      ],
      "source": [
        "# calculate the total influence score for each TikToker\n",
        "df['Influence score'] = df['Subscribers count'] + df['Views avg.'] + df['Likes avg'] + df['Comments avg.'] + df['Shares avg']\n",
        "\n",
        "# sort the DataFrame by the influence score and get the top 3 rows\n",
        "top_influencers = df.sort_values(by='Influence score', ascending=False).head(3)\n",
        "\n",
        "# create a bar plot to visualize the top 3 TikTokers based on influence score\n",
        "sns.set_style(\"whitegrid\")\n",
        "sns.set_palette(\"muted\")\n",
        "sns.set(rc={'figure.figsize':(8,6)})\n",
        "sns.barplot(x='Tiktoker name', y='Influence score', data=top_influencers)\n",
        "plt.title('Top 3 Influential TikTokers')\n",
        "plt.xlabel('Tiktoker name')\n",
        "plt.ylabel('Influence score')\n",
        "plt.show()"
      ]
    },
    {
      "cell_type": "code",
      "execution_count": null,
      "id": "d8b099d6",
      "metadata": {
        "id": "d8b099d6"
      },
      "outputs": [],
      "source": []
    }
  ],
  "metadata": {
    "kernelspec": {
      "display_name": "Python 3 (ipykernel)",
      "language": "python",
      "name": "python3"
    },
    "language_info": {
      "codemirror_mode": {
        "name": "ipython",
        "version": 3
      },
      "file_extension": ".py",
      "mimetype": "text/x-python",
      "name": "python",
      "nbconvert_exporter": "python",
      "pygments_lexer": "ipython3",
      "version": "3.10.9"
    },
    "colab": {
      "provenance": []
    }
  },
  "nbformat": 4,
  "nbformat_minor": 5
}